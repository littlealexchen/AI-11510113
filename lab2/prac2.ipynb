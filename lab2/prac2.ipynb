{
 "cells": [
  {
   "cell_type": "markdown",
   "metadata": {},
   "source": [
    "# Introduction to Artificial Intelligence for Non Computing"
   ]
  },
  {
   "cell_type": "markdown",
   "metadata": {},
   "source": [
    "## Practical 2 (weeks 3 - 4)"
   ]
  },
  {
   "cell_type": "markdown",
   "metadata": {},
   "source": [
    "## Search Techniques"
   ]
  },
  {
   "cell_type": "markdown",
   "metadata": {},
   "source": [
    "The following links provide additional information about depth first search and breath first search"
   ]
  },
  {
   "cell_type": "markdown",
   "metadata": {},
   "source": [
    "- Depth first search:   link：https://pan.baidu.com/s/1bkLHKKbSBNpfFuKwDyURqw  password：oy76\n",
    "- Breath first search:  link：https://pan.baidu.com/s/176g5q0W3rGbSAM5tZMraeg   password：7mdh"
   ]
  },
  {
   "cell_type": "markdown",
   "metadata": {},
   "source": [
    "#### Theory Questions "
   ]
  },
  {
   "cell_type": "markdown",
   "metadata": {},
   "source": [
    "1\\. What is an algorithm? A sequence of steps such as a recipe or a movie script.\n",
    "\n",
    "As a movie viewer, please write an algorithm for a process to \"see a movie\". Include details of the following for example (add additional information yourself):\n",
    "\t- The start conditions \n",
    "\t-- I want to watch a movie\n",
    "\t- Roles (people/actors involved) \n",
    "    --watcher, ticket seller etc \n",
    "    -Equipment required (\"props\")\n",
    "    --seats, ticket etc\n",
    "    - The scenes \n",
    "    -- scene 1 - buy ticket \n",
    "    -- ??? what happens next\n",
    "    -- scene 3, scene 3 ...\n",
    "    - Results/outcomes\n",
    "    -- ?\n"
   ]
  },
  {
   "cell_type": "markdown",
   "metadata": {},
   "source": [
    "这是我自己的答案<br>\n",
    "def see_a_movie:<br>\n",
    "  &ensp;movie = input(\"name of movie\")<br>\n",
    "  &ensp;role = get_role(movie)<br>\n",
    "  &ensp;print(role)<br>\n",
    "  &ensp;watcher = input(\"number of watcher\")<br>\n",
    "  &ensp;ticket_seller = get_ticket_seller(movie)<br>\n",
    "  &ensp;print(ticket_seller)<br>\n",
    "  &ensp;seat = get_seat(movie,watcher,ticket_seller)<br>\n",
    "  &ensp;print(seat)<br>\n",
    "  &ensp;ticket = get_ticket(seat)<br>\n",
    "  &ensp;scene = input(\"number of scene\")<br>\n",
    "  &ensp;post_scene(scene)<br>\n",
    "  &ensp;veri = get_verification()<br>\n",
    "  &ensp;print(\"successful\")<br>\n",
    "  &ensp;print(veri)<br><br>\n",
    " 这个看了老师的以后写的答案<br>\n",
    " # start condition:\n",
    " I am willing to watch a movie and I have enough money<br>\n",
    "# role:\n",
    "I, conductor, security, ticket checker\n",
    " # equipment required: \n",
    " ticket, seats, projector, screen\n",
    " # scene : \n",
    " ## scene 1:\n",
    " I go to the cinema, ask the conductor, give money to him and get tickets\n",
    " ## scene 2:\n",
    " I go to the cinema, give money to the ticket checker and walk into the movie hall\n",
    " ## scene 3:\n",
    " I go to sit at my seat and enjoy the movie when it starts\n",
    " ## scene 4:\n",
    " The movie is over and I walk out of the hall.\n",
    "****\n"
   ]
  },
  {
   "cell_type": "markdown",
   "metadata": {},
   "source": [
    "2\\. A farmer with his wolf, duck and bag of corn come to the east side of a river they wish to cross. There is a boat at the rivers edge, but of course only the farmer can row. The boat can only hold two things (including the rower) at any one time. If the wolf is ever left alone with the duck, the wolf will eat it. Similarly if the duck is ever left alone with the corn, the duck will eat it. How can the farmer get across the river so that all four arrive safely on the other side? "
   ]
  },
  {
   "cell_type": "markdown",
   "metadata": {},
   "source": [
    "**He ships the duck to the opposite bank and returns by himself. He then ships the bag of corn and returns with the duck. Next, he ships the wolf and returns by himself. Finally, he ships the duck.**\n",
    "***\n"
   ]
  },
  {
   "cell_type": "markdown",
   "metadata": {},
   "source": [
    " "
   ]
  },
  {
   "cell_type": "markdown",
   "metadata": {},
   "source": [
    "3\\.Explain why we determine our problem goals before we write the problem formulation (including the model and deciding what algorithm or techniques to use - for example search, or other method).\n",
    "\n",
    "See Chapter3.1 (Russel & Norvig)"
   ]
  },
  {
   "cell_type": "markdown",
   "metadata": {},
   "source": [
    "**Because it helps to organize behavior adopted and the decision problem is largely simplified.**\n",
    "****\n"
   ]
  },
  {
   "cell_type": "markdown",
   "metadata": {},
   "source": [
    "4\\. This question requires you to perform BFS and DFS on paper.\n",
    "\n",
    "<img src=\"img/p1.png\" width=\"180\" height=\"180\" >\n",
    "\n",
    "1. Simulate (on pencil-and-paper) breadth-first search starting from node A when the goal node is K.\n",
    "2. Simulate (on pencil-and-paper) depth first search starting from node A when the goal node is I.\n"
   ]
  },
  {
   "cell_type": "markdown",
   "metadata": {},
   "source": [
    "**1.A-B-C-D-E-F-H-G-I-K<br>\n",
    "2.A-B-C-E-F-D-H-I-K**\n",
    "****\n"
   ]
  },
  {
   "cell_type": "markdown",
   "metadata": {},
   "source": [
    "5\\.Consider a state space where the start state is number 1 and each state  k has two successors: numbers 2k and 2k + 1.\n",
    "- a. Draw the portion of the state space for states 1 to 15.\n",
    "- b. Suppose the goal state is 11. List the order in which nodes will be visited for breadthfirst\n",
    "search, depth-limited search with limit 3, and iterative deepening search.\n",
    "- c. How well would bidirectional search work on this problem? What is the branching\n",
    "factor in each direction of the bidirectional search?\n",
    "- d. Does the answer to (c) suggest a reformulation of the problem that would allow you to\n",
    "solve the problem of getting from state 1 to a given goal state with almost no search?\n",
    "- e. Call the action going from k to 2k Left, and the action going to 2k + 1 Right. Can you\n",
    "find an algorithm that outputs the solution to this problem without any search at all?\n",
    "\n",
    "See textbook Chapter3.15"
   ]
  },
  {
   "cell_type": "markdown",
   "metadata": {},
   "source": [
    "**a.**\n",
    "<img src=\"5.jpg\" width=800 height=600>\n",
    "**b.<br>\n",
    "breadthfirst search: 1-2-3-4-5-6-7-8-9-10-11<br>\n",
    "depth-limited search:1-2-4-8-9-5-10-11<br>\n",
    "iterative deepending search: 1-1-2-3-1-2-4-5-3-6-7-1-2-4-8-9-5-10-11<br>\n",
    "c.<br>\n",
    "If each node knows its predecessor, bidirectional search is pretty good. Otherwise, it has no difference with breadth first search.<br>\n",
    "2 for the direction from 1 and 1 for the direction from 11.<br>**\n"
   ]
  },
  {
   "cell_type": "markdown",
   "metadata": {},
   "source": [
    "### Programming Excercises"
   ]
  },
  {
   "cell_type": "markdown",
   "metadata": {},
   "source": [
    "1\\.Write a program to solve a classic ancient Chinese puzzle:  \n",
    " We count 35 heads and 94 legs among the chickens and rabbits in a farm. How many rabbits and how many chickens do we have? "
   ]
  },
  {
   "cell_type": "code",
   "execution_count": 2,
   "metadata": {},
   "outputs": [
    {
     "name": "stdout",
     "output_type": "stream",
     "text": [
      "12 rabbits and 23 chickens\n"
     ]
    }
   ],
   "source": [
    "##Hint:Use for loop to iterate all possible\n",
    "## write your answer here!\n",
    "for chicken in range(35):\n",
    "    rabbit = 35 - chicken\n",
    "    if rabbit * 4 + chicken * 2 == 94:\n",
    "        print(str(rabbit)+\" rabbits and \"+str(chicken)+\" chickens\")\n",
    "        "
   ]
  },
  {
   "cell_type": "markdown",
   "metadata": {},
   "source": [
    "2\\. _Social networking_ Please look at the graph below of social relationships. You have a mango farm, you need to find a mango buyer and sell him your mango that you have grown (just a small farm). To this end, our principle is to use our social network of friends separated by one degree, and then second degree friends (friends of friends), third degree friends (friends of friends of friends).\n",
    "\n",
    "Use the depth first algorithm to search your network until you find a mango seller. \n",
    "\n",
    "We make an assumption that if the person's name ends with m, then it means the person must be the mango seller!\n",
    "\n",
    "\n",
    "<img src=\"img/p3.png\" width=\"500\" height=\"400\" >"
   ]
  },
  {
   "cell_type": "code",
   "execution_count": 1,
   "metadata": {},
   "outputs": [
    {
     "name": "stdout",
     "output_type": "stream",
     "text": [
      "thom is a seller\n"
     ]
    }
   ],
   "source": [
    "## write your answer here!\n",
    "# class graph:\n",
    "#     def __init__(sides):\n",
    "#         self.sides = {}\n",
    "#         for side in sides:\n",
    "#             if self.sides.has_key(side[0]):\n",
    "#                 self.sides[side[0]].append(side[1])\n",
    "#             else:\n",
    "#                 self.sides[side[0]]=list(side[1])\n",
    "#     def bfs(self):\n",
    "    \n",
    "sides = ((\"you\",\"bob\"),(\"you\",\"alice\"),(\"you\",\"claire\"),(\"bob\",\"anuj\"),(\"bob\",\"peggy\"),(\"alice\",\"peggy\"),(\"claire\",\"jonny\"),(\"claire\",\"thom\"))\n",
    "graph = {}\n",
    "for side in sides:\n",
    "    if side[0] in graph:\n",
    "        graph[side[0]].append(side[1])\n",
    "    else:\n",
    "        graph[side[0]] = [side[1]]\n",
    "# bfs\n",
    "order = []\n",
    "queue = []\n",
    "queue.append(\"you\")\n",
    "order.append(\"you\")\n",
    "while queue:\n",
    "    f = queue.pop(0)\n",
    "    if f in graph:\n",
    "            for n in graph[f]:\n",
    "                if n not in order:\n",
    "                    order.append(n)\n",
    "                    queue.append(n)\n",
    "                    if n[-1] == \"m\":\n",
    "                        print(n+\" is a seller\")\n",
    "            \n"
   ]
  },
  {
   "cell_type": "markdown",
   "metadata": {},
   "source": [
    "3\\. Depth First traverse：Use depth first traversal to traverse all the DLL files on the C disk and output the file names.\n",
    "\n",
    "Update your code to search for a particular filename.\n",
    "\n",
    "What protocol did you use to select the next node to expand on the fringe?"
   ]
  },
  {
   "cell_type": "code",
   "execution_count": 9,
   "metadata": {},
   "outputs": [
    {
     "name": "stdout",
     "output_type": "stream",
     "text": [
      "C:\\Windows\\pyshellext.amd64.dll\n",
      "C:\\Windows\\RtlExUpd.dll\n",
      "C:\\Windows\\twain_32.dll\n",
      "C:\\Windows\\xinstaller.1.3.0.22.dll\n",
      "C:\\Windows\\xinstaller.dll\n",
      "C:\\Windows\\WinSxS\\x86_wwf-system.workflow.runtime_31bf3856ad364e35_10.0.17134.280_none_ea7651ad3de137ab\\System.Workflow.Runtime.dll\n",
      "C:\\Windows\\WinSxS\\x86_wwf-system.workflow.runtime_31bf3856ad364e35_10.0.17134.1_none_ee7cce6d50d3ee92\\System.Workflow.Runtime.dll\n",
      "C:\\Windows\\WinSxS\\x86_wwf-system.workflow.runtime_31bf3856ad364e35_10.0.17134.165_none_ea90f1113dcc8155\\System.Workflow.Runtime.dll\n",
      "C:\\Windows\\WinSxS\\x86_wwf-system.workflow.componentmodel_31bf3856ad364e35_10.0.17134.280_none_113f8d8cabefe697\\System.Workflow.ComponentModel.dll\n",
      "C:\\Windows\\WinSxS\\x86_wwf-system.workflow.componentmodel_31bf3856ad364e35_10.0.17134.1_none_15460a4cbee29d7e\\System.Workflow.ComponentModel.dll\n",
      "C:\\Windows\\WinSxS\\x86_wwf-system.workflow.componentmodel_31bf3856ad364e35_10.0.17134.165_none_115a2cf0abdb3041\\System.Workflow.ComponentModel.dll\n",
      "C:\\Windows\\WinSxS\\x86_wwf-system.workflow.activities_31bf3856ad364e35_10.0.17134.280_none_b7c166f615d8eb26\\System.Workflow.Activities.dll\n",
      "C:\\Windows\\WinSxS\\x86_wwf-system.workflow.activities_31bf3856ad364e35_10.0.17134.1_none_bbc7e3b628cba20d\\System.Workflow.Activities.dll\n",
      "C:\\Windows\\WinSxS\\x86_wwf-system.workflow.activities_31bf3856ad364e35_10.0.17134.165_none_b7dc065a15c434d0\\System.Workflow.Activities.dll\n",
      "C:\\Windows\\WinSxS\\x86_wpf-windowsformsintegration_31bf3856ad364e35_10.0.17134.1_none_837e00372c9d063f\\WindowsFormsIntegration.dll\n",
      "C:\\Windows\\WinSxS\\x86_wpf-windowsbase_31bf3856ad364e35_10.0.17134.1_none_e0cefdb7f8931433\\WindowsBase.dll\n",
      "C:\\Windows\\WinSxS\\x86_wpf-uiautomationtypes_31bf3856ad364e35_10.0.17134.1_none_e67412414bbd8125\\UIAutomationTypes.dll\n",
      "C:\\Windows\\WinSxS\\x86_wpf-uiautomationprovider_31bf3856ad364e35_10.0.17134.1_none_8dfec2293bbed7cb\\UIAutomationProvider.dll\n",
      "C:\\Windows\\WinSxS\\x86_wpf-uiautomationclient_31bf3856ad364e35_10.0.17134.1_none_63dae903f21563bd\\UIAutomationClient.dll\n",
      "C:\\Windows\\WinSxS\\x86_wpf-uiautomationclientsideproviders_31bf3856ad364e35_10.0.17134.1_none_de1e0138ff33512c\\UIAutomationClientsideProviders.dll\n",
      "C:\\Windows\\WinSxS\\x86_wpf-system.speech_31bf3856ad364e35_10.0.17134.1_none_0b1ee10ecd5ac4ba\\System.Speech.dll\n",
      "C:\\Windows\\WinSxS\\x86_wpf-reachframework_31bf3856ad364e35_10.0.17134.1_none_898c1c03d9867518\\ReachFramework.dll\n",
      "C:\\Windows\\WinSxS\\x86_wpf-presentationnative_31bf3856ad364e35_10.0.17134.1_none_e027fcadf74d3d9c\\PresentationNative_v0300.dll\n",
      "C:\\Windows\\WinSxS\\x86_wpf-presentationhostproxy_31bf3856ad364e35_10.0.17134.1_none_b3ed07802a9c121f\\PresentationHostProxy.dll\n",
      "C:\\Windows\\WinSxS\\x86_wpf-presentationhostdll_31bf3856ad364e35_10.0.17134.1_none_f96d5e0cd0cc307b\\PresentationHostDLL.dll\n",
      "C:\\Windows\\WinSxS\\x86_wpf-presentationframework_31bf3856ad364e35_10.0.17134.1_none_f7e84cda06c35c5d\\PresentationFramework.dll\n",
      "C:\\Windows\\WinSxS\\x86_wpf-presentationframework.royale_31bf3856ad364e35_10.0.17134.1_none_741721cd5b0f73a3\\PresentationFramework.Royale.dll\n",
      "C:\\Windows\\WinSxS\\x86_wpf-presentationframework.luna_31bf3856ad364e35_10.0.17134.1_none_bac08948ba085a13\\PresentationFramework.Luna.dll\n",
      "C:\\Windows\\WinSxS\\x86_wpf-presentationframework.classic_31bf3856ad364e35_10.0.17134.1_none_7dcb360dda92a06d\\PresentationFramework.Classic.dll\n",
      "C:\\Windows\\WinSxS\\x86_wpf-presentationframework.aero_31bf3856ad364e35_10.0.17134.1_none_bbe5b06ab95e4290\\PresentationFramework.Aero.dll\n",
      "C:\\Windows\\WinSxS\\x86_wpf-presentationcffrasterizernative_31bf3856ad364e35_10.0.17134.1_none_52f74fef3f1f65ea\\PresentationCFFRasterizerNative_v0300.dll\n",
      "C:\\Windows\\WinSxS\\x86_wpf-presentationbuildtasks_31bf3856ad364e35_10.0.17134.1_none_d96f2fb1fe487cf5\\PresentationBuildTasks.dll\n",
      "C:\\Windows\\WinSxS\\x86_wpf-penimc_31bf3856ad364e35_10.0.17134.1_none_351303bbb57ac89d\\PenIMC.dll\n",
      "C:\\Windows\\WinSxS\\x86_wcf-system.servicemodel_b03f5f7f11d50a3a_10.0.17134.254_none_d5ff175e12d127c0\\System.ServiceModel.dll\n",
      "C:\\Windows\\WinSxS\\x86_wcf-system.servicemodel_b03f5f7f11d50a3a_10.0.17134.1_none_d1ef184a827a31d2\\System.ServiceModel.dll\n",
      "C:\\Windows\\WinSxS\\x86_wcf-system.servicemodel_b03f5f7f11d50a3a_10.0.17134.165_none_d600010412d05a67\\System.ServiceModel.dll\n",
      "C:\\Windows\\WinSxS\\x86_wcf-system.runtime.serialization_b03f5f7f11d50a3a_10.0.17134.254_none_c847077248116a0e\\System.Runtime.Serialization.dll\n",
      "C:\\Windows\\WinSxS\\x86_wcf-system.runtime.serialization_b03f5f7f11d50a3a_10.0.17134.1_none_c437085eb7ba7420\\System.Runtime.Serialization.dll\n",
      "C:\\Windows\\WinSxS\\x86_wcf-system.runtime.serialization_b03f5f7f11d50a3a_10.0.17134.165_none_c847f11848109cb5\\System.Runtime.Serialization.dll\n",
      "C:\\Windows\\WinSxS\\x86_wcf-system.io.log_b03f5f7f11d50a3a_10.0.17134.1_none_9763f66a5223b9ce\\System.IO.Log.dll\n",
      "C:\\Windows\\WinSxS\\x86_wcf-system.identitymodel_b03f5f7f11d50a3a_10.0.17134.254_none_e6aec02967dae3a7\\System.IdentityModel.dll\n",
      "C:\\Windows\\WinSxS\\x86_wcf-system.identitymodel_b03f5f7f11d50a3a_10.0.17134.1_none_e29ec115d783edb9\\System.IdentityModel.dll\n",
      "C:\\Windows\\WinSxS\\x86_wcf-system.identitymodel_b03f5f7f11d50a3a_10.0.17134.165_none_e6afa9cf67da164e\\System.IdentityModel.dll\n",
      "C:\\Windows\\WinSxS\\x86_wcf-system.identitymodel.selectors_b03f5f7f11d50a3a_10.0.17134.1_none_2067b078c8179b27\\System.IdentityModel.Selectors.dll\n",
      "C:\\Windows\\WinSxS\\x86_wcf-m_svc_mon_sup_dll_31bf3856ad364e35_10.0.17134.254_none_2b5dea4ce95cba33\\ServiceMonikerSupport.dll\n",
      "C:\\Windows\\WinSxS\\x86_wcf-m_svc_mon_sup_dll_31bf3856ad364e35_10.0.17134.1_none_2f3ff620fc6b5f91\\ServiceMonikerSupport.dll\n",
      "C:\\Windows\\WinSxS\\x86_wcf-m_svc_mon_sup_dll_31bf3856ad364e35_10.0.17134.165_none_2b5418c4e963f254\\ServiceMonikerSupport.dll\n",
      "C:\\Windows\\WinSxS\\x86_wcf-m_sm_ins_rc_dll_31bf3856ad364e35_10.0.17134.1_none_525e362afa9197da\\ServiceModelInstallRC.dll\n",
      "C:\\Windows\\WinSxS\\x86_wcf-m_sm_evt_dll_vista_31bf3856ad364e35_10.0.17134.1_none_01cc21b8492e9547\\ServiceModelEvents.dll\n",
      "C:\\Windows\\WinSxS\\x86_system.web_b03f5f7f11d50a3a_4.0.15680.142_none_8a0d8afc5bd2ba42\\System.Web.dll\n",
      "C:\\Windows\\WinSxS\\x86_system.web_b03f5f7f11d50a3a_4.0.15671.0_none_96095f261be0306d\\System.Web.dll\n",
      "C:\\Windows\\WinSxS\\x86_system.web_b03f5f7f11d50a3a_10.0.17134.1_none_b41e0cdaad8975fb\\System.Web.dll\n",
      "C:\\Windows\\WinSxS\\x86_system.transactions_b77a5c561934e089_4.0.15671.0_none_b26c66df6dea6dcc\\System.Transactions.dll\n",
      "C:\\Windows\\WinSxS\\x86_system.transactions_b77a5c561934e089_10.0.17134.1_none_d0811493ff93b35a\\System.Transactions.dll\n",
      "C:\\Windows\\WinSxS\\x86_system.printing_31bf3856ad364e35_4.0.15671.0_none_692f98489922c680\\System.Printing.dll\n",
      "C:\\Windows\\WinSxS\\x86_system.printing_31bf3856ad364e35_10.0.17134.1_none_fca2539126e9425b\\System.Printing.dll\n",
      "C:\\Windows\\WinSxS\\x86_system.enterpriseservices_b03f5f7f11d50a3a_4.0.15671.0_none_74885236b373f69e\\System.EnterpriseServices.dll\n",
      "C:\\Windows\\WinSxS\\x86_system.enterpriseservices_b03f5f7f11d50a3a_4.0.15671.0_none_74885236b373f69e\\System.EnterpriseServices.Wrapper.dll\n",
      "C:\\Windows\\WinSxS\\x86_system.enterpriseservices_b03f5f7f11d50a3a_10.0.17134.1_none_929cffeb451d3c2c\\System.EnterpriseServices.dll\n",
      "C:\\Windows\\WinSxS\\x86_system.enterpriseservices_b03f5f7f11d50a3a_10.0.17134.1_none_929cffeb451d3c2c\\System.EnterpriseServices.Wrapper.dll\n",
      "C:\\Windows\\WinSxS\\x86_system.data_b77a5c561934e089_4.0.15680.142_none_277c3f5cf97f50f4\\System.Data.dll\n",
      "C:\\Windows\\WinSxS\\x86_system.data_b77a5c561934e089_4.0.15671.0_none_33781386b98cc71f\\System.Data.dll\n",
      "C:\\Windows\\WinSxS\\x86_system.data_b77a5c561934e089_10.0.17134.1_none_518cc13b4b360cad\\System.Data.dll\n",
      "C:\\Windows\\WinSxS\\x86_system.data.oracleclient_b77a5c561934e089_4.0.15671.0_none_92178ef6e2849c36\\System.Data.OracleClient.dll\n",
      "C:\\Windows\\WinSxS\\x86_system.data.oracleclient_b77a5c561934e089_10.0.17134.1_none_b02c3cab742de1c4\\System.Data.OracleClient.dll\n",
      "C:\\Windows\\WinSxS\\x86_srmlib_31bf3856ad364e35_10.0.17134.1_none_8b6a9dc317ae5a50\\srmlib.dll\n",
      "C:\\Windows\\WinSxS\\x86_presentationcore_31bf3856ad364e35_4.0.15680.142_none_e79ec086646f17e8\\PresentationCore.dll\n",
      "C:\\Windows\\WinSxS\\x86_presentationcore_31bf3856ad364e35_4.0.15671.0_none_f39a94b0247c8e13\\PresentationCore.dll\n",
      "C:\\Windows\\WinSxS\\x86_presentationcore_31bf3856ad364e35_10.0.17134.1_none_3593031340c13e30\\PresentationCore.dll\n",
      "C:\\Windows\\WinSxS\\x86_presentationcore_31bf3856ad364e35_10.0.17134.1_none_3593031340c13e30\\wpfgfx_v0300.dll\n",
      "C:\\Windows\\WinSxS\\x86_policy.1.2.microsof..op.security.azroles_31bf3856ad364e35_10.0.17134.1_none_761bf41bdc2dbe0f\\Policy.1.2.Microsoft.Interop.Security.AzRoles.dll\n",
      "C:\\Windows\\WinSxS\\x86_policy.1.0.microsof..op.security.azroles_31bf3856ad364e35_10.0.17134.1_none_26e6a0341791ca2d\\Policy.1.0.Microsoft.Interop.Security.AzRoles.dll\n"
     ]
    }
   ],
   "source": [
    "import os\n",
    "\n",
    "# 使用递归\n",
    "def traverse_dll(rootdir):\n",
    "    count = 0\n",
    "    list = os.listdir(rootdir)\n",
    "    for x in list:\n",
    "        path = os.path.join(rootdir, x)\n",
    "        if os.path.isdir(path):\n",
    "            try:\n",
    "                traverse_dll(path)\n",
    "                count += 1\n",
    "                if count > 10:\n",
    "                    break\n",
    "            except:\n",
    "                pass\n",
    "        elif os.path.splitext(x)[1] == \".dll\":\n",
    "            print(path)\n",
    "                \n",
    "# traverse_dll('c:\\\\')\n",
    "\n",
    "#使用递归\n",
    "def find_file(rootdir, file):\n",
    "    list = os.listdir(rootdir)\n",
    "    for x in list:\n",
    "        path = os.path.join(rootdir, x)\n",
    "        if os.path.isdir(path):\n",
    "            try:\n",
    "                find_fill(path)\n",
    "            except:\n",
    "                pass\n",
    "        elif x == file:\n",
    "            print(path)\n",
    "\n",
    "#非递归\n",
    "def traverse_dfs(rootdir):\n",
    "    count = 0\n",
    "    queue = [rootdir]\n",
    "    while queue:\n",
    "        f = queue.pop(-1)\n",
    "        try:\n",
    "            list = os.listdir(f)\n",
    "            for x in list:\n",
    "                path = os.path.join(f, x)\n",
    "                if os.path.splitext(x)[1] == '.dll':\n",
    "                    print(path)\n",
    "                elif os.path.isdir(path):\n",
    "                    queue.append(path)\n",
    "        except:\n",
    "            pass\n",
    "        \n",
    "        count += 1\n",
    "        if count >= 100:\n",
    "            break\n",
    "            \n",
    "traverse_dfs('C:\\\\')\n",
    "\n",
    "#非递归\n",
    "def find_dfs(rootdir, file):\n",
    "    queue = [rootdir]\n",
    "    while queue:\n",
    "        f = queue.pop(-1)\n",
    "        try:\n",
    "            list = os.listdir(f)\n",
    "            for x in list:\n",
    "                path = os.path.join(f, x)\n",
    "                if x == file:\n",
    "                    print(path)\n",
    "                elif os.path.isdir(path):\n",
    "                    queue.append(path)\n",
    "        except:\n",
    "            pass\n",
    "        \n",
    "        count += 1\n",
    "        if count >= 100:\n",
    "            break"
   ]
  },
  {
   "cell_type": "markdown",
   "metadata": {},
   "source": [
    "**the top of stack which is the last one put into the stack**"
   ]
  },
  {
   "cell_type": "markdown",
   "metadata": {},
   "source": [
    "4\\.\n",
    "Breadth First traverse：Use breadth traversal to traverse all the DLL files on the C disk and output the filename.\n",
    "\n",
    "Update your code to search for a particular filename."
   ]
  },
  {
   "cell_type": "code",
   "execution_count": 10,
   "metadata": {},
   "outputs": [
    {
     "name": "stdout",
     "output_type": "stream",
     "text": [
      "C:\\Boot\\bootvhd.dll\n",
      "C:\\Unifound\\Compress.dll\n",
      "C:\\Unifound\\gdiplus.dll\n",
      "C:\\Unifound\\gsdll32.dll\n",
      "C:\\Unifound\\PreView.dll\n",
      "C:\\Unifound\\PSHelper.dll\n",
      "C:\\Unifound\\SpoolMan.dll\n",
      "C:\\Unifound\\ThirdAuth.dll\n",
      "C:\\Unifound\\UniICCard.dll\n",
      "C:\\Windows\\pyshellext.amd64.dll\n",
      "C:\\Windows\\RtlExUpd.dll\n",
      "C:\\Windows\\twain_32.dll\n",
      "C:\\Windows\\xinstaller.1.3.0.22.dll\n",
      "C:\\Windows\\xinstaller.dll\n",
      "C:\\Boot\\Resources\\bootres.dll\n",
      "C:\\Program Files\\Application Verifier\\vrfauto.dll\n",
      "C:\\Program Files\\internet explorer\\hmmapi.dll\n",
      "C:\\Program Files\\internet explorer\\IEShims.dll\n",
      "C:\\Program Files\\internet explorer\\sqmapi.dll\n",
      "C:\\Program Files\\Windows Defender\\AMMonitoringProvider.dll\n",
      "C:\\Program Files\\Windows Defender\\DataLayer.dll\n",
      "C:\\Program Files\\Windows Defender\\DefenderCSP.dll\n",
      "C:\\Program Files\\Windows Defender\\EppManifest.dll\n",
      "C:\\Program Files\\Windows Defender\\MpAsDesc.dll\n",
      "C:\\Program Files\\Windows Defender\\MpAzSubmit.dll\n",
      "C:\\Program Files\\Windows Defender\\MpClient.dll\n",
      "C:\\Program Files\\Windows Defender\\MpCommu.dll\n",
      "C:\\Program Files\\Windows Defender\\MpEvMsg.dll\n",
      "C:\\Program Files\\Windows Defender\\MpOAV.dll\n",
      "C:\\Program Files\\Windows Defender\\MpProvider.dll\n",
      "C:\\Program Files\\Windows Defender\\MpRtp.dll\n",
      "C:\\Program Files\\Windows Defender\\MpSvc.dll\n",
      "C:\\Program Files\\Windows Defender\\mpuxhostproxy.dll\n",
      "C:\\Program Files\\Windows Defender\\MsMpCom.dll\n",
      "C:\\Program Files\\Windows Defender\\MsMpLics.dll\n",
      "C:\\Program Files\\Windows Defender\\MsMpRes.dll\n",
      "C:\\Program Files\\Windows Defender\\MsMpResL.dll\n",
      "C:\\Program Files\\Windows Defender\\ProtectionManagement.dll\n",
      "C:\\Program Files\\Windows Defender\\shellext.dll\n",
      "C:\\Program Files\\Windows Defender Advanced Threat Protection\\SenseCncPS.dll\n",
      "C:\\Program Files\\Windows Defender Advanced Threat Protection\\SenseMirror.dll\n",
      "C:\\Program Files\\Windows Defender Advanced Threat Protection\\WATPCSP.dll\n",
      "C:\\Program Files\\Windows Mail\\wabimp.dll\n",
      "C:\\Program Files\\Windows Media Player\\WMPMediaSharing.dll\n",
      "C:\\Program Files\\Windows Media Player\\wmpnssci.dll\n",
      "C:\\Program Files\\Windows Media Player\\WMPNSSUI.dll\n",
      "C:\\Program Files\\Windows Multimedia Platform\\sqmapi.dll\n"
     ]
    }
   ],
   "source": [
    "import os\n",
    "def traverse_bfs(rootdir):\n",
    "    count = 0\n",
    "    queue = [rootdir]\n",
    "    while queue:\n",
    "        f = queue.pop(0)\n",
    "        try:\n",
    "            list = os.listdir(f)\n",
    "            for x in list:\n",
    "                path = os.path.join(f, x)\n",
    "                if os.path.splitext(x)[1] == '.dll':\n",
    "                    print(path)\n",
    "                elif os.path.isdir(path):\n",
    "                    queue.append(path)\n",
    "        except:\n",
    "            pass\n",
    "        \n",
    "        count += 1\n",
    "        if count >= 100:\n",
    "            break\n",
    "\n",
    "traverse_bfs('C:\\\\')\n",
    "\n",
    "def find_bfs(rootdir):\n",
    "    queue = [rootdir]\n",
    "    while queue:\n",
    "        f = queue.pop(0)\n",
    "        try:\n",
    "            list = os.listdir(f)\n",
    "            for x in list:\n",
    "                path = os.path.join(f, x)\n",
    "                if x == file:\n",
    "                    print(path)\n",
    "                elif os.path.isdir(path):\n",
    "                    queue.append(path)\n",
    "        except:\n",
    "            pass\n",
    "        \n",
    "        count += 1\n",
    "        if count >= 100:\n",
    "            break"
   ]
  },
  {
   "cell_type": "markdown",
   "metadata": {},
   "source": [
    "5\\. Uniform cost search"
   ]
  },
  {
   "cell_type": "markdown",
   "metadata": {},
   "source": [
    "Consider a state space where the start state is 2 and each state k has three successors: numbers 2k, 2k+1, 2k+2. The cost from state k to each respective child is k, ground(k/2), k+2.\n",
    "\n",
    "can you implement a uniform-cost-search algorithm with python. The goal state is number 85."
   ]
  },
  {
   "cell_type": "code",
   "execution_count": 6,
   "metadata": {},
   "outputs": [
    {
     "name": "stdout",
     "output_type": "stream",
     "text": [
      "cost is 53\n",
      "path is 2 5 10 21 42 85 "
     ]
    }
   ],
   "source": [
    "import math\n",
    "\n",
    "# list(node, total_cost)\n",
    "heap = [(2, 0)]\n",
    "# explored nodes\n",
    "explored = [2]\n",
    "# {node:[total_cost,[total_path]]}\n",
    "path = {2: [0, [2]]}\n",
    "while heap:\n",
    "    heap.sort(key=lambda h: h[1])\n",
    "    f = heap.pop(0)\n",
    "\n",
    "    if f[0] >= 100:\n",
    "        break\n",
    "\n",
    "    for node, cost in [(f[0]*2, f[0]+f[1]),\n",
    "                       (f[0]*2+1, math.floor(f[0]/2)+f[1]),\n",
    "                       (f[0]*2+2, f[0]+2+f[1])]:\n",
    "        if node not in explored:\n",
    "            heap.append((node, cost))\n",
    "            explored.append(node)\n",
    "            tmp = []\n",
    "            for x in path[f[0]][1]:\n",
    "                tmp.append(x)\n",
    "            tmp.append(node)\n",
    "            path[node] = [cost, tmp]\n",
    "        else:\n",
    "            if cost < path[node][0]:\n",
    "                heap.remove((node, path[node][0]))\n",
    "                tmp = []\n",
    "                for x in path[f[0]][1]:\n",
    "                    tmp.append(x)\n",
    "                tmp.append(node)\n",
    "                path[node] = [cost, tmp]\n",
    "                heap.append((node, cost))\n",
    "    # # left\n",
    "    # if f[0] * 2 not in explored:\n",
    "    #     heap.append((f[0] * 2, f[0] + f[1]))\n",
    "    #     explored.append(f[0] * 2)\n",
    "    #     tmp = []\n",
    "    #     for x in path[f[0]][1]:\n",
    "    #         tmp.append(x)\n",
    "    #     tmp.append(f[0] * 2)\n",
    "    #     path[f[0] * 2] = [f[0] + f[1], tmp]\n",
    "    # else:\n",
    "    #     if f[0] + f[1] < path[f[0] * 2][0]:\n",
    "    #         heap.remove((f[0] * 2, path[f[0] * 2][0]))\n",
    "    #         tmp = []\n",
    "    #         for x in path[f[0]][1]:\n",
    "    #             tmp.append(x)\n",
    "    #         tmp.append(f[0] * 2)\n",
    "    #         path[f[0] * 2] = [f[0] + f[1], tmp]\n",
    "    #         heap.append((f[0] * 2, f[0] + f[1]))\n",
    "    # # middle\n",
    "    # if f[0] * 2 + 1 not in explored:\n",
    "    #     heap.append((f[0]*2+1, math.floor(f[0]/2) + f[1]))\n",
    "    #     explored.append(f[0] * 2 + 1)\n",
    "    #     tmp = []\n",
    "    #     for x in path[f[0]][1]:\n",
    "    #         tmp.append(x)\n",
    "    #     tmp.append(f[0] * 2 + 1)\n",
    "    #     path[f[0] * 2 + 1] = [math.floor(f[0] / 2) + f[1], tmp]\n",
    "    # else:\n",
    "    #     if math.floor(f[0] / 2) + f[1] < path[f[0] * 2 + 1][0]:\n",
    "    #         heap.remove((f[0] * 2 + 1, path[f[0] * 2 + 1][0]))\n",
    "    #         tmp = []\n",
    "    #         for x in path[f[0]][1]:\n",
    "    #             tmp.append(x)\n",
    "    #         tmp.append(f[0] * 2 + 1)\n",
    "    #         path[f[0] * 2 + 1] = [math.floor(f[0] / 2) + f[1], tmp]\n",
    "    #         heap.append((f[0]*2+1, math.floor(f[0]/2) + f[1]))\n",
    "    #\n",
    "    # # right\n",
    "    # if f[0] * 2 + 2 not in explored:\n",
    "    #     heap.append((f[0] * 2 + 2, f[0] + 2 + f[1]))\n",
    "    #     explored.append(f[0] * 2 + 2)\n",
    "    #     tmp = []\n",
    "    #     for x in path[f[0]][1]:\n",
    "    #         tmp.append(x)\n",
    "    #     tmp.append(f[0] * 2 + 2)\n",
    "    #     path[f[0] * 2 + 2] = [f[0] + 2 + f[1], tmp]\n",
    "    # else:\n",
    "    #     if f[0] + 2 + f[1] < path[f[0] * 2 + 2][0]:\n",
    "    #         heap.remove((f[0] * 2 + 2, path[f[0] * 2 + 2][0]))\n",
    "    #         tmp = []\n",
    "    #         for x in path[f[0]][1]:\n",
    "    #             tmp.append(x)\n",
    "    #         tmp.append(f[0] * 2 + 2)\n",
    "    #         path[f[0] * 2 + 2] = [f[0] + 2 + f[1], tmp]\n",
    "    #         heap.append((f[0] * 2 + 2, f[0] + 2 + f[1]))\n",
    "\n",
    "print(\"cost is \" + str(path[85][0]))\n",
    "print(\"path is \", end='')\n",
    "for x in path[85][1]:\n",
    "    print(x, end=' ')"
   ]
  },
  {
   "cell_type": "markdown",
   "metadata": {},
   "source": [
    "6\\.a* question"
   ]
  },
  {
   "cell_type": "markdown",
   "metadata": {},
   "source": [
    "A cute cat stays in the A position, he is hungry. But the food is placed in the B position. Can you help him to find the food? \n",
    "Hint:  The problem isn't easy. It's essential for you to understand the A* algorithm before you solve this problem. Then, you can use some thought of Node in java, when you are in code.\n",
    "\n",
    "<img src=\"img/p4.png\" width=\"500\" height=\"400\" >\n"
   ]
  },
  {
   "cell_type": "code",
   "execution_count": 11,
   "metadata": {},
   "outputs": [
    {
     "name": "stdout",
     "output_type": "stream",
     "text": [
      "It should run though this route: (3, 2) (4, 3) (5, 4) (4, 5) (3, 6) "
     ]
    }
   ],
   "source": [
    "frontier = [(3, 2, 0)]\n",
    "explored = [(3, 2)]\n",
    "wall = ((2, 4), (3, 4), (4, 4))\n",
    "food = (3, 6)\n",
    "path = {(3, 2): [0, [(3, 2)]]}\n",
    "\n",
    "while frontier:\n",
    "    frontier.sort(key=lambda x: x[2])\n",
    "    f = frontier.pop(0)\n",
    "\n",
    "    if f[1] > 6:\n",
    "        break\n",
    "\n",
    "    for rm, cm in [(-1, 0), (-1, -1), (0, -1), (1, -1),\n",
    "                   (1, 0), (1, 1), (0, 1), (-1, 1)]:\n",
    "        node = (f[0]+rm, f[1]+cm)\n",
    "        if abs(rm)+abs(cm) == 2:\n",
    "            score = f[2] + 14 + 10 * abs(3 - node[0]) + 10 * abs(6 - node[1])\n",
    "        else:\n",
    "            score = f[2] + 10 + 10 * abs(3 - node[0]) + 10 * abs(6 - node[1])\n",
    "        if node not in wall:\n",
    "            if node not in explored:\n",
    "                frontier.append((f[0]+rm, f[1]+cm, score))\n",
    "                explored.append(node)\n",
    "                tmp = []\n",
    "                for x in path[(f[0], f[1])][1]:\n",
    "                    tmp.append(x)\n",
    "                tmp.append(node)\n",
    "                path[node] = [score, tmp]\n",
    "            else:\n",
    "                if score < path[node][0]:\n",
    "                    frontier.remove((f[0]+rm, f[1]+cm, path[node][0]))\n",
    "                    tmp = []\n",
    "                    for x in path[(f[0], f[1])][1]:\n",
    "                        tmp.append(x)\n",
    "                    tmp.append(node)\n",
    "                    path[node] = [score, tmp]\n",
    "                    frontier.append((f[0]+rm, f[1]+cm, score))\n",
    "# print(path[(3, 6)])\n",
    "print(\"It should run though this route: \", end='')\n",
    "for x in path[(3,6)][1]:\n",
    "    print(x, end=' ')"
   ]
  },
  {
   "cell_type": "code",
   "execution_count": null,
   "metadata": {},
   "outputs": [],
   "source": []
  }
 ],
 "metadata": {
  "kernelspec": {
   "display_name": "Python 3",
   "language": "python",
   "name": "python3"
  },
  "language_info": {
   "codemirror_mode": {
    "name": "ipython",
    "version": 3
   },
   "file_extension": ".py",
   "mimetype": "text/x-python",
   "name": "python",
   "nbconvert_exporter": "python",
   "pygments_lexer": "ipython3",
   "version": "3.6.6"
  }
 },
 "nbformat": 4,
 "nbformat_minor": 2
}
