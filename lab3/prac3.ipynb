{
 "cells": [
  {
   "cell_type": "markdown",
   "metadata": {},
   "source": [
    "# Introduction to Artificial Intelligence for Non Computing"
   ]
  },
  {
   "cell_type": "markdown",
   "metadata": {},
   "source": [
    "## Practical 3 (weeks 5 - 6)"
   ]
  },
  {
   "cell_type": "markdown",
   "metadata": {},
   "source": [
    "The following links provide additional information about data analysis , machine learning and Numpy"
   ]
  },
  {
   "cell_type": "markdown",
   "metadata": {},
   "source": [
    "Python data analysis: https://www.imooc.com/learn/843\n",
    "machine learning: https://www.imooc.com/learn/717\n",
    "Numpy :https://www.imooc.com/learn/943"
   ]
  },
  {
   "cell_type": "markdown",
   "metadata": {},
   "source": [
    "#### Theory Questions"
   ]
  },
  {
   "cell_type": "markdown",
   "metadata": {},
   "source": [
    "1\\.Which of the following are true and which are false? Give brief explanations.\n",
    "- a. In a fully observable, turn-taking, zero-sum game between two perfectly rational players,it does not help the first player to know what strategy the second player is using—that is, what move the second player will make, given the first player's move.\n",
    "- b. In a partially observable, turn-taking, zero-sum game between two perfectly rational players, it does not help the first player to know what move the second player will make, given the first player's move.\n",
    "- c. A perfectly rational backgammon agent never loses.\n",
    "\n",
    "See textbook Chapter6 24.6"
   ]
  },
  {
   "cell_type": "markdown",
   "metadata": {},
   "source": [
    "**a:True. The first player assumes that the second player will take the action that gives the first player minimum utility.<br>\n",
    "b:Flase. The first player needs to know what move the second player will take then he can consider the next move he should take.<br>\n",
    "c:Flase. It wins in most instances and may also lose**\n",
    "***"
   ]
  },
  {
   "cell_type": "markdown",
   "metadata": {},
   "source": [
    "2\\.Define in your own words the terms constraint, backtracking search, arc consistency,backjumping, min-conflicts, and cycle cutset.\n",
    "\n",
    "See textbook Chapter6 6.16"
   ]
  },
  {
   "cell_type": "markdown",
   "metadata": {},
   "source": [
    "**constraint: The variables must have some particular relations with others or they cannot have some paticular relations.<br>\n",
    "backtracking search: If the search cannot continue, it will go back to one of the peredecessor of the current state and go on.<br>\n",
    "arc consistency: An arc represents a constraint. For each value in A's domain, there is a value in B's domain such that they are consistent.<br>\n",
    "cycle cutset: Give a variable a value to delete it from the graph so that the graph beceomes a tree.<br>**\n",
    "\n",
    "***"
   ]
  },
  {
   "cell_type": "markdown",
   "metadata": {},
   "source": [
    "3\\.Explain why it is a good heuristic to choose the variable that is most constrained but the value that is least constraining in a CSP search.\n",
    "\n",
    "See textbook Chapter6 6.9"
   ]
  },
  {
   "cell_type": "markdown",
   "metadata": {},
   "source": [
    "**Because after we choosing the variable, we can determine most variables to reduce complex. And we must choose the least constrainted value so that we can continue the CSP search and make it as long as possible.**\n",
    "***"
   ]
  },
  {
   "cell_type": "markdown",
   "metadata": {},
   "source": [
    "4\\.Consider the following procedure for choosing moves in games with chance nodes: \n",
    "- 1、Generate some dice-roll sequences (say, 50) down to a suitable depth (say, 8).\n",
    "- 2、With known dice rolls, the game tree becomes deterministic. For each dice-roll sequence,solve the resulting deterministic game tree using alpha-beta.\n",
    "- 3、Use the results to estimate the value of each move and to choose the best.Will this procedure work well? Why (or why not)?\n",
    "\n",
    "See textbook Chapter5 5.19"
   ]
  },
  {
   "cell_type": "markdown",
   "metadata": {},
   "source": [
    "**No, because there are not two couterparties. The alpha-beta search finds the maximum utility for MAX.**\n",
    "\n",
    "***"
   ]
  },
  {
   "cell_type": "markdown",
   "metadata": {},
   "source": [
    "5\\. Now,please consider this game:  there are three plates A, B and C, each plate has three bills. A puts 1, 20, 50; B puts 5, 10, 100; C puts 1, 5, 20. All units are \"Yuan\". There are two persons A and B, and two of them can check out three plates and banknotes .（ A is ourself, The other is B）\n",
    "The game is divided into three steps: \n",
    "- 1、A select a plate from three plate.\n",
    "- 2、B take out two banknotes from A selected plate,and give the  banknotes to A.  \n",
    "- 3、A take one of the two banknotes, and take it away.among,A want to get the max banknotes, B want to let A to get the min.\n",
    "\n",
    "Try to understand the minimax algorithm，you can click the link:https://blog.csdn.net/tangchenyi/article/details/22920031"
   ]
  },
  {
   "cell_type": "markdown",
   "metadata": {},
   "source": [
    "\n",
    "# if A chooses A:\n",
    "## if B chooses 1,20\n",
    "A get 20\n",
    "## if B chooses 1, 50\n",
    "A get 50\n",
    "## if B chooses 20,50\n",
    "A get 50\n",
    "# if A chooses B:\n",
    "## if B chooses 5,10\n",
    "A get 10\n",
    "## if B chooses 5, 100\n",
    "A get 100\n",
    "## if B chooses 10,100\n",
    "A get 100\n",
    "# if A choosesC:\n",
    "## if B chooses 1,5\n",
    "A get 5\n",
    "## if B chooses 1, 20\n",
    "A get 20\n",
    "## if B chooses 5,20\n",
    "A get 20\n",
    "***"
   ]
  },
  {
   "cell_type": "markdown",
   "metadata": {},
   "source": [
    "### Programming Excercises"
   ]
  },
  {
   "cell_type": "markdown",
   "metadata": {},
   "source": [
    "1\\. Guess number(Single number): please generate a randomly number  with the function (random), then ask someone to guess the number,I think we should give the corresponding hint, otherwise it will be very difficult to guess the number.the game will be over untill you get the right number."
   ]
  },
  {
   "cell_type": "code",
   "execution_count": 2,
   "metadata": {},
   "outputs": [
    {
     "name": "stdout",
     "output_type": "stream",
     "text": [
      "Guess number:5\n",
      "Your number is too little\n",
      "Guess number:9\n",
      "Your number is too large\n",
      "Guess number:8\n",
      "Your number is too large\n",
      "Guess number:7\n",
      "Congratulations\n"
     ]
    }
   ],
   "source": [
    "## write your answer here!\n",
    "import random\n",
    "goal = random.randint(0,9)\n",
    "\n",
    "while(True):\n",
    "    a = int(input(\"Guess number:\"))\n",
    "    if a == goal:\n",
    "        print(\"Congratulations\")\n",
    "        break\n",
    "    elif a > goal:\n",
    "        print(\"Your number is too large\")\n",
    "    else:\n",
    "        print(\"Your number is too little\")"
   ]
  },
  {
   "cell_type": "markdown",
   "metadata": {},
   "source": [
    "2\\.if you had understand the guess single number games,Congratulates,next is the guess three number games,Maybe you can do it well.But this is a different way of thinking. \n",
    "first : we need generate three numbers,there are most ten times chances give  you to guess the number,of course,we also give you some cue.\n",
    "\n",
    "- 'When I say:-->It means:\n",
    "- 'error--> The 3 numbers are not in the mystical numbers.'\n",
    "- 'Only the number is correct --> the number is right , but the position is not right.'\n",
    "- 'Absolutely right--> numbers is right and the position also right.'\n",
    "\n",
    "Maybe it's better for you to understand the rule well through see the picture.\n",
    "<div style=\"float:left;\" ><img src=\"img/p1.png\" width=\"400\" height=\"300\" >"
   ]
  },
  {
   "cell_type": "code",
   "execution_count": 1,
   "metadata": {},
   "outputs": [
    {
     "name": "stdout",
     "output_type": "stream",
     "text": [
      "This is the 1 time: 123\n",
      "['error', 'Only the number is correct', 'error']\n",
      "This is the 2 time: 245\n",
      "['Only the number is correct', 'Only the number is correct', 'error']\n",
      "This is the 3 time: 462\n",
      "['Absolutely right', 'error', 'Absolutely right']\n",
      "This is the 4 time: 472\n",
      "['Absolutely right', 'error', 'Absolutely right']\n",
      "This is the 5 time: 482\n",
      "Congratulations!\n",
      "Do you want to play again?\\(yes or no\\)no\n"
     ]
    }
   ],
   "source": [
    "## write your answer here!\n",
    "\n",
    "\n",
    "def guess_three_num(t):\n",
    "    import random\n",
    "    goal = [str(random.randint(0,9)), str(random.randint(0,9)), str(random.randint(0,9))]\n",
    "    t = 1\n",
    "    while(True):\n",
    "        a = input(\"This is the {} time: \".format(t))\n",
    "        result = []\n",
    "        for i in range(3):\n",
    "            if goal[i] == a[i]:\n",
    "                result.append('Absolutely right')\n",
    "            elif a[i] in goal:\n",
    "                result.append('Only the number is correct')\n",
    "            else:\n",
    "                result.append('error')\n",
    "        if result[0] == 'Absolutely right' and result[1] == 'Absolutely right' and result[2] == 'Absolutely right':\n",
    "            print(\"Congratulations!\")\n",
    "            break\n",
    "        else:\n",
    "            print(result)\n",
    "        t += 1\n",
    "        if t > 10:\n",
    "            print(\"Sorry\")\n",
    "            break\n",
    "\n",
    "if __name__ == '__main__':\n",
    "    guess_three_num(10)\n",
    "    y = input(\"Do you want to play again?\\(yes or no\\)\")\n",
    "    while(y == 'yes'):\n",
    "        guess_three_num(10)\n",
    "        y = input(\"Do you want to play again?\\(yes or no\\)\")"
   ]
  },
  {
   "cell_type": "markdown",
   "metadata": {},
   "source": [
    "3\\.please try using Python's Tkinter to make a visual interface（GUI）.if you don't know anything.Maybe you can refer to the below interface.and implement it by code.\n",
    "\n",
    "<div style=\"float:left;\" ><img src=\"img/p2.png\" width=\"200\" height=\"200\" >"
   ]
  },
  {
   "cell_type": "code",
   "execution_count": 9,
   "metadata": {},
   "outputs": [],
   "source": [
    "## write your answer here!\n",
    "from tkinter import * \n",
    "app = Tk()\n",
    "app.title(\"tk\")\n",
    "language = ['C', 'python', 'php', 'html', 'SQL', 'java']\n",
    "language.reverse()\n",
    "plug = ['CSS', 'jQuery', 'Bootstrap']\n",
    "plug.reverse()\n",
    "list1 = StringVar(value=language)\n",
    "list2 = StringVar(value=plug)\n",
    "listbox1 = Listbox(app, listvariable=list1)\n",
    "listbox2 = Listbox(app, listvariable=list2)\n",
    "listbox1.pack()\n",
    "listbox2.pack()\n",
    "app.mainloop()"
   ]
  },
  {
   "cell_type": "markdown",
   "metadata": {},
   "source": [
    "4\\.Through the initial trial of Tkinter,    please write a simple calculator.\n",
    "\n",
    "<div style=\"float:left;\" ><img src=\"img/p3.png\" width=\"180\" height=\"200\" center=\"left\"></div>\n",
    "<div style=\"float:left;\" ><img src=\"img/p4.png\" width=\"180\" height=\"200\" center=\"right\" ></div>"
   ]
  },
  {
   "cell_type": "code",
   "execution_count": 45,
   "metadata": {},
   "outputs": [],
   "source": [
    "## write your answer here!\n",
    "from tkinter import *\n",
    "root = Tk()\n",
    "root.title('simple calculator')\n",
    "root.resizable(width=True, height=True)\n",
    "# screen = Frame(root).pack()\n",
    "keypad = Frame(root).grid()\n",
    "\n",
    "result = \"\"\n",
    "equaled = False\n",
    "num1 = 0\n",
    "num2 = 0\n",
    "display = Label(keypad, text=result, bg='yellow',anchor='e', width=10)\n",
    "display.grid(row=0,column=0, columnspan=4)\n",
    "\n",
    "def b1():\n",
    "    global result\n",
    "    global equaled\n",
    "    if equaled:\n",
    "        result = \"1\"\n",
    "        equaled = False\n",
    "    else:\n",
    "        result += \"1\"\n",
    "    display.configure(text=result)\n",
    "def b2():\n",
    "    global result\n",
    "    global equaled\n",
    "    if equaled:\n",
    "        result = \"2\"\n",
    "        equaled = False\n",
    "    else:\n",
    "        result += \"2\"\n",
    "    display.configure(text=result)\n",
    "def b3():\n",
    "    global result\n",
    "    global equaled\n",
    "    if equaled:\n",
    "        result = \"3\"\n",
    "        equaled = False\n",
    "    else:\n",
    "        result += \"3\"\n",
    "    display.configure(text=result)\n",
    "def b4():\n",
    "    global result\n",
    "    global equaled\n",
    "    if equaled:\n",
    "        result = \"4\"\n",
    "        equaled = False\n",
    "    else:\n",
    "        result += \"4\"\n",
    "    display.configure(text=result)\n",
    "def b5():\n",
    "    global result\n",
    "    global equaled\n",
    "    if equaled:\n",
    "        result = \"5\"\n",
    "        equaled = False\n",
    "    else:\n",
    "        result += \"5\"\n",
    "    display.configure(text=result)\n",
    "def b6():\n",
    "    global result\n",
    "    global equaled\n",
    "    if equaled:\n",
    "        result = \"6\"\n",
    "        equaled = False\n",
    "    else:\n",
    "        result += \"6\"\n",
    "    display.configure(text=result)\n",
    "def b7():\n",
    "    global result\n",
    "    global equaled\n",
    "    if equaled:\n",
    "        result = \"7\"\n",
    "        equaled = False\n",
    "    else:\n",
    "        result += \"7\"\n",
    "    display.configure(text=result)\n",
    "def b8():\n",
    "    global result\n",
    "    global equaled\n",
    "    if equaled:\n",
    "        result = \"8\"\n",
    "        equaled = False\n",
    "    else:\n",
    "        result += \"8\"\n",
    "    display.configure(text=result)\n",
    "def b9():\n",
    "    global result\n",
    "    global equaled\n",
    "    if equaled:\n",
    "        result = \"9\"\n",
    "        equaled = False\n",
    "    else:\n",
    "        result += \"9\"\n",
    "    display.configure(text=result)\n",
    "def bplus():\n",
    "    global result\n",
    "    global equaled\n",
    "    global operator\n",
    "    global num1\n",
    "    num1 = int(result)\n",
    "    result = \"\"\n",
    "    operator = \"+\"\n",
    "    display.configure(text=result)\n",
    "def bminus():\n",
    "    global result\n",
    "    global operator\n",
    "    global num1\n",
    "    num1 = int(result)\n",
    "    result = \"\"\n",
    "    operator = \"-\"\n",
    "    display.configure(text=result)\n",
    "def btime():\n",
    "    global result\n",
    "    global operator\n",
    "    global num1\n",
    "    num1 = int(result)\n",
    "    result = \"\"\n",
    "    operator = \"*\"\n",
    "    display.configure(text=result)\n",
    "def bdivide():\n",
    "    global result\n",
    "    global operator\n",
    "    global num1\n",
    "    num1 = int(result)\n",
    "    result = \"\"\n",
    "    operator = \"/\"\n",
    "    display.configure(text=result)\n",
    "def bc():\n",
    "    global result\n",
    "    result = \"\"\n",
    "#     operator = \"\"\n",
    "    display.configure(text=result)\n",
    "def bce():\n",
    "    global result\n",
    "    result = result[:-1]\n",
    "    display.configure(text=result)\n",
    "def bequal():\n",
    "    global result\n",
    "    global equaled\n",
    "    global operator\n",
    "    global num1\n",
    "    global num2\n",
    "    num2 = int(result)\n",
    "    if operator == \"+\":\n",
    "        result = str(num1+num2)\n",
    "    elif operator == \"-\":\n",
    "        result = str(num1-num2)\n",
    "    elif operator == \"*\":\n",
    "        result = str(num1*num2)\n",
    "    else:\n",
    "        result = str(num1/num2)\n",
    "    equaled = True\n",
    "    display.configure(text=result)\n",
    "button1 = Button(keypad, text=\"1\", command=b1).grid(row=3,column=0)\n",
    "button2 = Button(keypad, text=\"2\", command=b2).grid(row=3,column=1)\n",
    "button3 = Button(keypad, text=\"3\", command=b3).grid(row=3,column=2)\n",
    "button4 = Button(keypad, text=\"4\", command=b4).grid(row=2,column=0)\n",
    "button5 = Button(keypad, text=\"5\", command=b5).grid(row=2,column=1)\n",
    "button6 = Button(keypad, text=\"6\", command=b6).grid(row=2,column=2)\n",
    "button7 = Button(keypad, text=\"7\", command=b7).grid(row=1,column=0)\n",
    "button8 = Button(keypad, text=\"8\", command=b8).grid(row=1,column=1)\n",
    "button9 = Button(keypad, text=\"9\", command=b9).grid(row=1,column=2)\n",
    "button_plus = Button(keypad, text='+', command=bplus).grid(row=1, column=3)\n",
    "button_minus = Button(keypad, text='-', command=bminus).grid(row=2, column=3)\n",
    "button_time = Button(keypad, text='*', command=btime).grid(row=3, column=3)\n",
    "button_divide = Button(keypad, text='/', command=bdivide).grid(row=4, column=3)\n",
    "button_c = Button(keypad, text='C', command=bc).grid(row=4, column=0)\n",
    "button_ce = Button(keypad, text='CE', command=bce).grid(row=4, column=1)\n",
    "button_equal = Button(keypad, text='=', command=bequal).grid(row=4, column=2)\n",
    "\n",
    "root.mainloop()"
   ]
  },
  {
   "cell_type": "markdown",
   "metadata": {},
   "source": [
    "5\\.Ball game:Python's pinball game, which can realize the game function of the keyboard control bottom baffle moving collision ball similar to table tennis game. \n",
    "\n",
    "<div style=\"float:left;\" ><img src=\"img/p5.png\" width=\"200\" height=\"200\" center=\"left\"></div>\n",
    "<div style=\"float:left;\" ><img src=\"img/p6.png\" width=\"200\" height=\"200\" center=\"right\" ></div>\n"
   ]
  },
  {
   "cell_type": "markdown",
   "metadata": {},
   "source": [
    "this is a step:how to install the matplotlib,you can reference this link:https://blog.csdn.net/not_give_up_/article/details/79058272\n",
    "1. Ball Class\n",
    "    draw is responsible for moving Ball\n",
    "    Collision detection, bounce, Ball detection of Paddle \n",
    "2. Paddle Class\n",
    "    draw is responsible for moving Paddle\n",
    "    Collision detection to determine whether or not to continue ,Monitor keyboard events\n",
    "3. main cycle\n",
    "    Drawing the Ball and Paddle"
   ]
  },
  {
   "cell_type": "code",
   "execution_count": 8,
   "metadata": {},
   "outputs": [
    {
     "ename": "TclError",
     "evalue": "invalid command name \".!canvas\"",
     "output_type": "error",
     "traceback": [
      "\u001b[1;31m---------------------------------------------------------------------------\u001b[0m",
      "\u001b[1;31mTclError\u001b[0m                                  Traceback (most recent call last)",
      "\u001b[1;32m<ipython-input-8-05e1b069b539>\u001b[0m in \u001b[0;36m<module>\u001b[1;34m()\u001b[0m\n\u001b[0;32m     81\u001b[0m         \u001b[0mpaddle\u001b[0m\u001b[1;33m.\u001b[0m\u001b[0mdraw\u001b[0m\u001b[1;33m(\u001b[0m\u001b[1;33m)\u001b[0m\u001b[1;33m\u001b[0m\u001b[0m\n\u001b[0;32m     82\u001b[0m     \u001b[1;32melse\u001b[0m\u001b[1;33m:\u001b[0m\u001b[1;33m\u001b[0m\u001b[0m\n\u001b[1;32m---> 83\u001b[1;33m         \u001b[0mcanvas\u001b[0m\u001b[1;33m.\u001b[0m\u001b[0mcreate_text\u001b[0m\u001b[1;33m(\u001b[0m\u001b[1;36m250\u001b[0m\u001b[1;33m,\u001b[0m\u001b[1;36m50\u001b[0m\u001b[1;33m,\u001b[0m\u001b[0mtext\u001b[0m\u001b[1;33m=\u001b[0m\u001b[1;34m'Game over'\u001b[0m\u001b[1;33m,\u001b[0m \u001b[0mfont\u001b[0m\u001b[1;33m=\u001b[0m\u001b[1;33m(\u001b[0m\u001b[1;34m'Courier'\u001b[0m\u001b[1;33m,\u001b[0m\u001b[1;36m30\u001b[0m\u001b[1;33m)\u001b[0m\u001b[1;33m)\u001b[0m\u001b[1;33m\u001b[0m\u001b[0m\n\u001b[0m\u001b[0;32m     84\u001b[0m     \u001b[0mroot\u001b[0m\u001b[1;33m.\u001b[0m\u001b[0mupdate_idletasks\u001b[0m\u001b[1;33m(\u001b[0m\u001b[1;33m)\u001b[0m\u001b[1;33m\u001b[0m\u001b[0m\n\u001b[0;32m     85\u001b[0m     \u001b[0mroot\u001b[0m\u001b[1;33m.\u001b[0m\u001b[0mupdate\u001b[0m\u001b[1;33m(\u001b[0m\u001b[1;33m)\u001b[0m\u001b[1;33m\u001b[0m\u001b[0m\n",
      "\u001b[1;32mF:\\LOVE_SPACE\\anaconda\\lib\\tkinter\\__init__.py\u001b[0m in \u001b[0;36mcreate_text\u001b[1;34m(self, *args, **kw)\u001b[0m\n\u001b[0;32m   2499\u001b[0m     \u001b[1;32mdef\u001b[0m \u001b[0mcreate_text\u001b[0m\u001b[1;33m(\u001b[0m\u001b[0mself\u001b[0m\u001b[1;33m,\u001b[0m \u001b[1;33m*\u001b[0m\u001b[0margs\u001b[0m\u001b[1;33m,\u001b[0m \u001b[1;33m**\u001b[0m\u001b[0mkw\u001b[0m\u001b[1;33m)\u001b[0m\u001b[1;33m:\u001b[0m\u001b[1;33m\u001b[0m\u001b[0m\n\u001b[0;32m   2500\u001b[0m         \u001b[1;34m\"\"\"Create text with coordinates x1,y1.\"\"\"\u001b[0m\u001b[1;33m\u001b[0m\u001b[0m\n\u001b[1;32m-> 2501\u001b[1;33m         \u001b[1;32mreturn\u001b[0m \u001b[0mself\u001b[0m\u001b[1;33m.\u001b[0m\u001b[0m_create\u001b[0m\u001b[1;33m(\u001b[0m\u001b[1;34m'text'\u001b[0m\u001b[1;33m,\u001b[0m \u001b[0margs\u001b[0m\u001b[1;33m,\u001b[0m \u001b[0mkw\u001b[0m\u001b[1;33m)\u001b[0m\u001b[1;33m\u001b[0m\u001b[0m\n\u001b[0m\u001b[0;32m   2502\u001b[0m     \u001b[1;32mdef\u001b[0m \u001b[0mcreate_window\u001b[0m\u001b[1;33m(\u001b[0m\u001b[0mself\u001b[0m\u001b[1;33m,\u001b[0m \u001b[1;33m*\u001b[0m\u001b[0margs\u001b[0m\u001b[1;33m,\u001b[0m \u001b[1;33m**\u001b[0m\u001b[0mkw\u001b[0m\u001b[1;33m)\u001b[0m\u001b[1;33m:\u001b[0m\u001b[1;33m\u001b[0m\u001b[0m\n\u001b[0;32m   2503\u001b[0m         \u001b[1;34m\"\"\"Create window with coordinates x1,y1,x2,y2.\"\"\"\u001b[0m\u001b[1;33m\u001b[0m\u001b[0m\n",
      "\u001b[1;32mF:\\LOVE_SPACE\\anaconda\\lib\\tkinter\\__init__.py\u001b[0m in \u001b[0;36m_create\u001b[1;34m(self, itemType, args, kw)\u001b[0m\n\u001b[0;32m   2475\u001b[0m         return self.tk.getint(self.tk.call(\n\u001b[0;32m   2476\u001b[0m             \u001b[0mself\u001b[0m\u001b[1;33m.\u001b[0m\u001b[0m_w\u001b[0m\u001b[1;33m,\u001b[0m \u001b[1;34m'create'\u001b[0m\u001b[1;33m,\u001b[0m \u001b[0mitemType\u001b[0m\u001b[1;33m,\u001b[0m\u001b[1;33m\u001b[0m\u001b[0m\n\u001b[1;32m-> 2477\u001b[1;33m             *(args + self._options(cnf, kw))))\n\u001b[0m\u001b[0;32m   2478\u001b[0m     \u001b[1;32mdef\u001b[0m \u001b[0mcreate_arc\u001b[0m\u001b[1;33m(\u001b[0m\u001b[0mself\u001b[0m\u001b[1;33m,\u001b[0m \u001b[1;33m*\u001b[0m\u001b[0margs\u001b[0m\u001b[1;33m,\u001b[0m \u001b[1;33m**\u001b[0m\u001b[0mkw\u001b[0m\u001b[1;33m)\u001b[0m\u001b[1;33m:\u001b[0m\u001b[1;33m\u001b[0m\u001b[0m\n\u001b[0;32m   2479\u001b[0m         \u001b[1;34m\"\"\"Create arc shaped region with coordinates x1,y1,x2,y2.\"\"\"\u001b[0m\u001b[1;33m\u001b[0m\u001b[0m\n",
      "\u001b[1;31mTclError\u001b[0m: invalid command name \".!canvas\""
     ]
    }
   ],
   "source": [
    "## write your answer here!\n",
    "from tkinter import *\n",
    "import random\n",
    "import time\n",
    "\n",
    "class Paddle:\n",
    "    def __init__(self, canvas, color):\n",
    "        self.canvas = canvas\n",
    "        self.id = canvas.create_rectangle(0,0,100,10,fill=color)\n",
    "        self.canvas.move(self.id,200,300)\n",
    "        self.x = 0\n",
    "        self.canvas_width = self.canvas.winfo_width()\n",
    "        self.canvas.bind_all('<KeyPress-Left>',self.turn_left)\n",
    "        self.canvas.bind_all('<KeyPress-Right>', self.turn_right)\n",
    "    def draw(self):\n",
    "        self.canvas.move(self.id, self.x,0)\n",
    "        pos = self.canvas.coords(self.id)\n",
    "        if pos[0] <= 0:\n",
    "            self.x = 0\n",
    "        elif pos[2] >= self.canvas_width:\n",
    "            self.x = 0\n",
    "    \n",
    "    def turn_right(self, evt):\n",
    "        self.x = 5\n",
    "    \n",
    "    def turn_left(self, evt):\n",
    "        self.x = -5\n",
    "    \n",
    "\n",
    "class Ball:\n",
    "    def __init__(self, canvas, paddle, color):\n",
    "        self.canvas = canvas\n",
    "        self.paddle = paddle\n",
    "        self.id = canvas.create_oval(10,10,25,25,fill=color)\n",
    "        self.canvas.move(self.id,245,100)\n",
    "        starts = [-3,-2,-1,1,2,3]\n",
    "        random.shuffle(starts)\n",
    "        self.x = starts[0]\n",
    "        self.y = -3\n",
    "        self.canvas_height = self.canvas.winfo_height()\n",
    "        self.canvas_width = self.canvas.winfo_width()\n",
    "        self.hit_bottom = False\n",
    "    \n",
    "    def hit_paddle(self, pos):\n",
    "        paddle_pos = self.canvas.coords(self.paddle.id)\n",
    "        if pos[2] >= paddle_pos[0] and pos[0] <= paddle_pos[2]:\n",
    "            if pos[3] >= paddle_pos[1] and pos[3] <= paddle_pos[3]:\n",
    "                return True\n",
    "        return False\n",
    "    \n",
    "    def draw(self):\n",
    "        self.canvas.move(self.id, self.x, self.y)\n",
    "        pos = self.canvas.coords(self.id)\n",
    "        if pos[1] <= 0:\n",
    "            self.y =3\n",
    "        if pos[3] >= self.canvas_height:\n",
    "            self.hit_bottom = True\n",
    "        if self.hit_paddle(pos) == True:\n",
    "            self.y = -3\n",
    "        if pos[0] <= 0:\n",
    "            self.x = 3\n",
    "        if pos[2] >= self.canvas_width:\n",
    "            self.x = -3\n",
    "\n",
    "\n",
    "root = Tk()\n",
    "root.title(\"Ball Game\")\n",
    "root.resizable(0,0)\n",
    "root.wm_attributes(\"-topmost\",1)\n",
    "canvas = Canvas(root, width=500,height=400,bd=0,highlightthickness=0)\n",
    "canvas.pack()\n",
    "root.update()\n",
    "\n",
    "\n",
    "paddle = Paddle(canvas, 'green')\n",
    "ball = Ball(canvas,paddle,'red')\n",
    "\n",
    "while 1:\n",
    "    if ball.hit_bottom == False:\n",
    "        ball.draw()\n",
    "        paddle.draw()\n",
    "    else:\n",
    "        canvas.create_text(250,50,text='Game over', font=('Courier',30))\n",
    "    root.update_idletasks()\n",
    "    root.update()\n",
    "    time.sleep(0.01)"
   ]
  },
  {
   "cell_type": "markdown",
   "metadata": {},
   "source": [
    "可以运行"
   ]
  },
  {
   "cell_type": "code",
   "execution_count": null,
   "metadata": {},
   "outputs": [],
   "source": []
  },
  {
   "cell_type": "code",
   "execution_count": null,
   "metadata": {},
   "outputs": [],
   "source": []
  }
 ],
 "metadata": {
  "kernelspec": {
   "display_name": "Python 3",
   "language": "python",
   "name": "python3"
  },
  "language_info": {
   "codemirror_mode": {
    "name": "ipython",
    "version": 3
   },
   "file_extension": ".py",
   "mimetype": "text/x-python",
   "name": "python",
   "nbconvert_exporter": "python",
   "pygments_lexer": "ipython3",
   "version": "3.6.6"
  }
 },
 "nbformat": 4,
 "nbformat_minor": 2
}
